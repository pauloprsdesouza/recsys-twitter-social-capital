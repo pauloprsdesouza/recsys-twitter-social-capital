{
 "cells": [
  {
   "attachments": {},
   "cell_type": "markdown",
   "metadata": {},
   "source": [
    "## Import libraries"
   ]
  },
  {
   "cell_type": "code",
   "execution_count": 53,
   "metadata": {},
   "outputs": [],
   "source": [
    "from pytwitter import Api\n",
    "import numpy as np\n",
    "import networkx as nx\n",
    "import matplotlib.pyplot as plt\n",
    "import numpy as np\n",
    "from sklearn.feature_extraction.text import TfidfVectorizer\n"
   ]
  },
  {
   "cell_type": "code",
   "execution_count": 3,
   "metadata": {},
   "outputs": [],
   "source": [
    "api = Api(bearer_token=\"AAAAAAAAAAAAAAAAAAAAAMhqlAEAAAAA4Pqzn354Z5nlkP5lKaW98vzlVlA%3D7GIA03xacVKdFYTFg7qmgvWTZThpa2FFd4SNPUqP7uPK7Xjue5\")"
   ]
  },
  {
   "attachments": {},
   "cell_type": "markdown",
   "metadata": {},
   "source": [
    "## Calculates the user's influence and reputation"
   ]
  },
  {
   "attachments": {},
   "cell_type": "markdown",
   "metadata": {},
   "source": [
    "## Calculates Graph Metrics"
   ]
  },
  {
   "attachments": {},
   "cell_type": "markdown",
   "metadata": {},
   "source": [
    "## Calculates Text Metrics"
   ]
  },
  {
   "cell_type": "code",
   "execution_count": 49,
   "metadata": {},
   "outputs": [],
   "source": [
    "def analyze_social_capital(tweets):\n",
    "  # create an empty directed graph\n",
    "  graph = nx.DiGraph()\n",
    "  \n",
    "  # iterate over the tweets and add edges to the graph\n",
    "  # representing the relationships between users\n",
    "  for tweet in tweets:\n",
    "    user = tweet.author_id\n",
    "    mentions = tweet.entities.mentions if tweet.entities is None else []\n",
    "    hashtags = tweet.entities.hashtags if tweet.entities is None else []\n",
    "    retweets = []\n",
    "    replies = []\n",
    "\n",
    "    if(tweet.referenced_tweets is not None):\n",
    "        for referencedTweet in tweet.referenced_tweets:\n",
    "          if referencedTweet.type == \"replied_to\":\n",
    "            replies.append(referencedTweet.id)\n",
    "          elif referencedTweet.type == \"retweeted\":           \n",
    "            retweets.append(referencedTweet.id)\n",
    "    \n",
    "    #likes = tweet.public_metrics.like_count\n",
    "    \n",
    "    # add an edge for each mention\n",
    "    for mention in mentions:\n",
    "      graph.add_edge(user, mention)\n",
    "\n",
    "    for hashtag in hashtags:\n",
    "      graph.add_edge(user, hashtag)\n",
    "      \n",
    "    # add an edge for each retweet\n",
    "    for retweet in retweets:\n",
    "      graph.add_edge(user, retweet)\n",
    "\n",
    "    for reply in replies:\n",
    "      graph.add_edge(user, reply)\n",
    "      \n",
    "    # add an edge for each like\n",
    "    #for like in likes:\n",
    "    #  graph.add_edge(user, like)\n",
    "\n",
    "  social_capital = {}\n",
    "      \n",
    "  # compute various measures of social capital for each node in the graph\n",
    "  for node in graph.nodes():\n",
    "    # compute the in-degree centrality\n",
    "    in_degree = graph.in_degree(node)\n",
    "    \n",
    "    # compute the out-degree centrality\n",
    "    out_degree = graph.out_degree(node)\n",
    "    \n",
    "    # compute the betweenness centrality\n",
    "    betweenness = nx.betweenness_centrality(graph)[node]\n",
    "    \n",
    "    # compute the PageRank\n",
    "    pagerank = nx.pagerank(graph)[node]\n",
    "    \n",
    "    # store the measures of social capital for the current node\n",
    "    social_capital[node] = {\n",
    "      'in_degree': in_degree,\n",
    "      'out_degree': out_degree,\n",
    "      'betweenness': betweenness,\n",
    "      'pagerank': pagerank\n",
    "    }\n",
    "\n",
    "  nx.draw(graph)\n",
    "    \n",
    "  return social_capital"
   ]
  },
  {
   "cell_type": "code",
   "execution_count": null,
   "metadata": {},
   "outputs": [],
   "source": [
    "public_tweets = api.search_tweets(query=\"stf lang:pt has:hashtags is:retweet\", expansions=[\"referenced_tweets.id.author_id\",\"in_reply_to_user_id\",\"attachments.media_keys\",\"author_id\",\"entities.mentions.username\"],\n",
    "user_fields=[\"created_at\",\"entities\",\"id\",\"location\",\"name\",\"pinned_tweet_id\",\"profile_image_url\",\"protected\",\"public_metrics\",\"url\",\"username\",\"verified\"],\n",
    "tweet_fields=[\"attachments\",\"author_id\",\"context_annotations\",\"created_at\",\"entities\",\"geo\",\"in_reply_to_user_id\",\"lang\",\"public_metrics\",\"reply_settings\",\"source\"], max_results=100)\n",
    "\n",
    "api.get_followers()\n",
    "\n",
    "public_tweets.includes.tweets\n",
    "\n",
    "#analyze_social_capital(public_tweets.data)"
   ]
  },
  {
   "cell_type": "code",
   "execution_count": null,
   "metadata": {},
   "outputs": [],
   "source": [
    "\n",
    "def social_capital_impact(tweet, social_connections, interactions, texts, resources, user_popularity, user_influence):\n",
    "  # extract the user, mentions, and hashtags from the tweet\n",
    "  user = tweet['user']\n",
    "  mentions = tweet['mentions']\n",
    "  hashtags = tweet['hashtags']\n",
    "  \n",
    "  # compute the number of connections the user has in the social network\n",
    "  user_connections = np.sum(social_connections[user])\n",
    "  \n",
    "  # compute the number of connections between the user and the mentions\n",
    "  mention_connections = 0\n",
    "  for mention in mentions:\n",
    "    mention_connections += social_connections[user][mention]\n",
    "  \n",
    "  # compute the number of connections between the user and the hashtags\n",
    "  hashtag_connections = 0\n",
    "  for hashtag in hashtags:\n",
    "    hashtag_connections += social_connections[user][hashtag]\n",
    "  \n",
    "  # compute the sum of the resources associated with the tweet\n",
    "  resource_sum = 0\n",
    "  for resource in resources:\n",
    "    if resource in tweet['resources']:\n",
    "      resource_sum += resources[resource]\n",
    "  \n",
    "  # compute the number of interactions for the tweet\n",
    "  interaction_sum = interactions[tweet['tweet_id']]\n",
    "  \n",
    "  # compute the text similarity between the tweet and the other texts\n",
    "  vectorizer = TfidfVectorizer()\n",
    "  tweet_text = [tweet['text']]\n",
    "  tweet_vector = vectorizer.fit_transform(tweet_text)\n",
    "  other_vectors = vectorizer.transform(texts)\n",
    "  similarity = cosine_similarity(tweet_vector, other_vectors)\n",
    "  \n",
    "  # compute the user popularity and influence factors\n",
    "  popularity_factor = user_popularity[user]\n",
    "  influence_factor = user_influence[user]\n",
    "  \n",
    "  # compute the social capital impact as the sum of mention connections, hashtag connections, resource sum, interaction sum,\n",
    "  # text similarity, popularity factor, and influence factor divided by the number of user connections\n",
    "  impact = (mention_connections + hashtag_connections + resource_sum + interaction_sum + similarity + popularity_factor + influence_factor) / user_connections\n",
    "  \n",
    "  return impact\n"
   ]
  }
 ],
 "metadata": {
  "kernelspec": {
   "display_name": "Python 3.10.7 64-bit",
   "language": "python",
   "name": "python3"
  },
  "language_info": {
   "codemirror_mode": {
    "name": "ipython",
    "version": 3
   },
   "file_extension": ".py",
   "mimetype": "text/x-python",
   "name": "python",
   "nbconvert_exporter": "python",
   "pygments_lexer": "ipython3",
   "version": "3.10.7"
  },
  "orig_nbformat": 4,
  "vscode": {
   "interpreter": {
    "hash": "aee8b7b246df8f9039afb4144a1f6fd8d2ca17a180786b69acc140d282b71a49"
   }
  }
 },
 "nbformat": 4,
 "nbformat_minor": 2
}
